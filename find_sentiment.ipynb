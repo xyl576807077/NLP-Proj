{
 "cells": [
  {
   "cell_type": "code",
   "execution_count": 1,
   "metadata": {},
   "outputs": [
    {
     "name": "stdout",
     "output_type": "stream",
     "text": [
      "Model loaded succeed\n"
     ]
    }
   ],
   "source": [
    "import thulac\n",
    "import numpy as np\n",
    "import pandas as pd\n",
    "seg = thulac.thulac(user_dict='./data/test.txt')\n",
    "train_data = pd.read_csv('./data/train.csv', sep='\\t')"
   ]
  },
  {
   "cell_type": "code",
   "execution_count": 2,
   "metadata": {
    "collapsed": true
   },
   "outputs": [],
   "source": [
    "content = train_data.iloc[1][\"content\"]\n",
    "sentiment = train_data.iloc[1][\"sentiment_word\"]\n",
    "theme = train_data.iloc[1][\"theme\"]"
   ]
  },
  {
   "cell_type": "code",
   "execution_count": 3,
   "metadata": {},
   "outputs": [],
   "source": [
    "import re"
   ]
  },
  {
   "cell_type": "code",
   "execution_count": 8,
   "metadata": {},
   "outputs": [
    {
     "data": {
      "text/plain": [
       "['我觉得不是正品，',\n",
       " '牙刷的后面有个点非常粗糙，',\n",
       " '刮嘴唇，',\n",
       " '和原厂的差太远，',\n",
       " '之前用的刷头上写的是diamond clean，',\n",
       " '这个是soniccare，',\n",
       " '当然不排除改版质量下降的因素，']"
      ]
     },
     "execution_count": 8,
     "metadata": {},
     "output_type": "execute_result"
    }
   ],
   "source": [
    "re.findall(u'.*?[！|,|，|。|...|？|?|!|；|~|～|。|：：]+', content + \"\")"
   ]
  }
 ],
 "metadata": {
  "kernelspec": {
   "display_name": "Python [conda root]",
   "language": "python",
   "name": "conda-root-py"
  },
  "language_info": {
   "codemirror_mode": {
    "name": "ipython",
    "version": 3
   },
   "file_extension": ".py",
   "mimetype": "text/x-python",
   "name": "python",
   "nbconvert_exporter": "python",
   "pygments_lexer": "ipython3",
   "version": "3.5.4"
  }
 },
 "nbformat": 4,
 "nbformat_minor": 2
}
