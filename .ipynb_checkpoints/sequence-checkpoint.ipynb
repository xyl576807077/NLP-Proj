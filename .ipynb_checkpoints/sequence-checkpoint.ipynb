{
 "cells": [
  {
   "cell_type": "code",
   "execution_count": 10,
   "metadata": {},
   "outputs": [],
   "source": [
    "fr = open('./data/sequence.txt', 'r')\n",
    "lines = fr.readlines()\n",
    "\n",
    "result = []\n",
    "import re\n",
    "\n",
    "def findS(word, tag):\n",
    "    flag = False\n",
    "    sentiments = ''\n",
    "    themes = ''\n",
    "    for index in range(len(tag)):\n",
    "        if tag[index]=='S':\n",
    "            flag = True\n",
    "            tmp1 = word[index]\n",
    "            sentiments = sentiments + tmp1 + ';'\n",
    "            tmp2 = ''\n",
    "            for i in range(index-1, -1, -1):\n",
    "                if tag[i]=='T':\n",
    "                    tmp2 = word[i]\n",
    "                    tag[i] = 'O'\n",
    "                    break\n",
    "            if tmp2 == '':\n",
    "                tmp2 = 'NULL'\n",
    "            themes = themes + tmp2 + ';'\n",
    "    if flag == False:\n",
    "        sentiments = '$$$'\n",
    "        themes = '$$$'\n",
    "    return themes, sentiments\n",
    "total = []\n",
    "for line in lines:\n",
    "    tmp = line.strip().split(' ')\n",
    "#     print(tmp)\n",
    "    word = []\n",
    "    tag = []\n",
    "    for t in tmp:\n",
    "        tag.append(t[-1])\n",
    "        word.append(t[:-2])\n",
    "    res1, res2 = findS(word, tag)\n",
    "    total.append([res1, res2])"
   ]
  },
  {
   "cell_type": "code",
   "execution_count": 14,
   "metadata": {},
   "outputs": [],
   "source": [
    "import pandas as pd\n",
    "total = pd.DataFrame(total)"
   ]
  },
  {
   "cell_type": "code",
   "execution_count": 15,
   "metadata": {
    "collapsed": true
   },
   "outputs": [],
   "source": [
    "import re\n",
    "not_seg = pd.read_csv('./data/validation_content.csv', header=None)\n",
    "not_cuts = re.compile(u'[。，、？！\\.\\?,!]')\n",
    "index_to_index = {}\n",
    "start = 0\n",
    "for index, row in not_seg.iterrows():\n",
    "    cnt = 0\n",
    "    for s in not_cuts.finditer(row[0]):\n",
    "        index_to_index[start + cnt] = index\n",
    "        cnt = cnt + 1\n",
    "    start = start + cnt"
   ]
  },
  {
   "cell_type": "code",
   "execution_count": null,
   "metadata": {
    "collapsed": true
   },
   "outputs": [],
   "source": [
    "merge_sentiment = {}\n",
    "merge_theme = {}\n",
    "for index, row in total.iterrows():\n",
    "    if merge_sentiment.get(index_to_index[index], -1):\n",
    "        if row[0] == \"$$$\":\n",
    "            merge_sentiment[index_to_index[index]] = \"\"\n",
    "            merge_theme[index_to_index[index]] = \"\"\n",
    "        else:\n",
    "            merge_sentiment[index_to_index[index]] = row[1]\n",
    "            merge_theme[index_to_index[index]] = row[0]\n",
    "    else:\n",
    "            merge_sentiment[index_to_index[index]] = merge_sentiment[index_to_index[index]] + row[1]\n",
    "            merge_theme[index_to_index[index]] = merge_theme[index_to_index[index]] + row[0]"
   ]
  }
 ],
 "metadata": {
  "kernelspec": {
   "display_name": "Python 3",
   "language": "python",
   "name": "python3"
  },
  "language_info": {
   "codemirror_mode": {
    "name": "ipython",
    "version": 3
   },
   "file_extension": ".py",
   "mimetype": "text/x-python",
   "name": "python",
   "nbconvert_exporter": "python",
   "pygments_lexer": "ipython3",
   "version": "3.5.4"
  }
 },
 "nbformat": 4,
 "nbformat_minor": 2
}
