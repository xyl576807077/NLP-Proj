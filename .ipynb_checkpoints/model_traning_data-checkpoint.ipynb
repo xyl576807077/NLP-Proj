{
 "cells": [
  {
   "cell_type": "code",
   "execution_count": null,
   "metadata": {},
   "outputs": [],
   "source": [
    "import pandas as pd\n",
    "import numpy as np\n",
    "import re\n",
    "not_cuts = re.compile(u'[。，、？！\\.\\?,!]')\n",
    "\n",
    "corpus_path = './data/train_content.csv'\n",
    "data = pd.read_csv(corpus_path, header=None)"
   ]
  },
  {
   "cell_type": "code",
   "execution_count": null,
   "metadata": {},
   "outputs": [],
   "source": [
    "res = []\n",
    "for index, row in data.iterrows():\n",
    "    print(index)\n",
    "    s = row[0]\n",
    "    start = 0\n",
    "    for i in not_cuts.finditer(s):\n",
    "        res.append(s[start:i.end()])\n",
    "        start = i.end()\n",
    "        \n"
   ]
  },
  {
   "cell_type": "code",
   "execution_count": null,
   "metadata": {
    "collapsed": true
   },
   "outputs": [],
   "source": [
    "tmp = pd.DataFrame(res)"
   ]
  },
  {
   "cell_type": "code",
   "execution_count": null,
   "metadata": {},
   "outputs": [],
   "source": [
    "tmp.to_csv('./data/seg_train_content.csv', header=None, sep='\\t', index=None)"
   ]
  },
  {
   "cell_type": "markdown",
   "metadata": {},
   "source": [
    "# 对句子分词\n"
   ]
  },
  {
   "cell_type": "code",
   "execution_count": 16,
   "metadata": {},
   "outputs": [
    {
     "name": "stdout",
     "output_type": "stream",
     "text": [
      "Model loaded succeed\n",
      "successfully cut file ./data/seg_train_content.csv!\n"
     ]
    }
   ],
   "source": [
    "import numpy as np\n",
    "import pandas as pd\n",
    "import thulac\n",
    "model = thulac.thulac(seg_only=True, user_dict='./data/dict.txt')\n",
    "model.cut_f(input_file='./data/seg_train_content.csv', output_file='./data/seg_tag_train_content.csv')"
   ]
  },
  {
   "cell_type": "markdown",
   "metadata": {},
   "source": [
    "# 打标签"
   ]
  },
  {
   "cell_type": "code",
   "execution_count": null,
   "metadata": {
    "collapsed": true
   },
   "outputs": [],
   "source": [
    "will_tag = './data/seg_tag_train_content.csv'\n",
    "# seg_content = pd.read_csv(will_tag , delimiter='\\t', header=None)\n",
    "\n",
    "sentiment_set = pd.read_csv('./data/sentiment_set.csv', header=None)\n",
    "theme_set = pd.read_csv('./data/theme_set.csv', header=None)\n",
    "\n",
    "\n",
    "sentiment = set()\n",
    "for item in sentiment_set.values:\n",
    "    sentiment.add(item[0])\n",
    "theme = set()\n",
    "for item in theme_set.values:\n",
    "    theme.add(item[0])\n",
    "\n",
    "def list_to_str(l):\n",
    "    res = \"\"\n",
    "    for i in range(len(l)):\n",
    "        if i == 0:\n",
    "            res = res + l[i]\n",
    "        else:\n",
    "            res = res + \" \" + l[i]\n",
    "    return res\n",
    "haha = []\n",
    "with open(will_tag , 'r') as f:\n",
    "    for (num,value) in enumerate(f):\n",
    "        words = value.split(' ')\n",
    "        res = []\n",
    "        pos = 0\n",
    "        for word in words:\n",
    "            if word in sentiment:\n",
    "                res.append('S')\n",
    "            elif word in theme:\n",
    "                res.append('T')\n",
    "            else:\n",
    "                res.append('O')\n",
    "        target = [list_to_str(res)]\n",
    "        haha.append(target)\n",
    "\n",
    "haha = pd.DataFrame(haha)\n",
    "haha.to_csv('./data/validation_target.csv', header=None, index=None)"
   ]
  }
 ],
 "metadata": {
  "kernelspec": {
   "display_name": "Python [conda root]",
   "language": "python",
   "name": "conda-root-py"
  },
  "language_info": {
   "codemirror_mode": {
    "name": "ipython",
    "version": 3
   },
   "file_extension": ".py",
   "mimetype": "text/x-python",
   "name": "python",
   "nbconvert_exporter": "python",
   "pygments_lexer": "ipython3",
   "version": "3.5.4"
  }
 },
 "nbformat": 4,
 "nbformat_minor": 2
}
