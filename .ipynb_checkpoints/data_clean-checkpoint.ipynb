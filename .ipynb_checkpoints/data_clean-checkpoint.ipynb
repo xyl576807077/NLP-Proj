{
 "cells": [
  {
   "cell_type": "markdown",
   "metadata": {},
   "source": [
    "# 1. 去除主题，情感词都为空的行"
   ]
  },
  {
   "cell_type": "code",
   "execution_count": null,
   "metadata": {
    "collapsed": true
   },
   "outputs": [],
   "source": [
    "import pandas as pd\n",
    "import numpy as np\n",
    "data = pd.read_excel('./data/origin.xlsx')\n",
    "data = data.fillna(\"$$$\")\n",
    "duty_data = data[data.sentiment_word == \"$$$\"]\n",
    "clean_data = data.drop(data[data.sentiment_word == \"$$$\"].index)\n",
    "\n",
    "# 情感词为空的数据\n",
    "duty_data.to_csv(\"./data/duty_data.csv\", sep='\\t', index=None, encoding=\"utf8\")\n",
    "# 干净的数据\n",
    "clean_data.to_csv(\"./data/clean_data.csv\", sep='\\t', index=None, encoding=\"utf8\")"
   ]
  },
  {
   "cell_type": "markdown",
   "metadata": {},
   "source": [
    "# 2. 划分训练集和测试集"
   ]
  },
  {
   "cell_type": "code",
   "execution_count": null,
   "metadata": {
    "collapsed": true
   },
   "outputs": [],
   "source": [
    "import numpy as np\n",
    "import pandas as pd\n",
    "from sklearn.model_selection import train_test_split\n",
    "clean_data = pd.read_csv(\"./data/clean_data.csv\", sep='\\t')\n",
    "data = clean_data.sample(frac = 1)\n",
    "percent = int(data.shape[0] * 0.9)\n",
    "train_data = data.iloc[:percent]\n",
    "test_data = data.iloc[percent:]"
   ]
  },
  {
   "cell_type": "code",
   "execution_count": null,
   "metadata": {
    "collapsed": true
   },
   "outputs": [],
   "source": [
    "train_data.to_csv(\"./data/train.csv\", sep=\"\\t\", index=None)\n",
    "test_data.to_csv('./data/test.csv', sep=\"\\t\", index=None)"
   ]
  },
  {
   "cell_type": "markdown",
   "metadata": {},
   "source": [
    "# 3. 检测content分词后，是否能保留情感词"
   ]
  },
  {
   "cell_type": "code",
   "execution_count": 1,
   "metadata": {},
   "outputs": [
    {
     "name": "stdout",
     "output_type": "stream",
     "text": [
      "Model loaded succeed\n"
     ]
    }
   ],
   "source": [
    "import thulac\n",
    "import numpy as np\n",
    "import pandas as pd\n",
    "train_data = pd.read_csv('./data/clean_data.csv', sep='\\t')\n",
    "seg = thulac.thulac(user_dict='./data/test.txt')\n",
    "# row = train_data.iloc[1]\n",
    "# content = row[\"content\"]\n",
    "# sentiment_words = row[\"sentiment_word\"]\n",
    "\n",
    "\n",
    "\n",
    "# content_data = train_data.loc[:,'content']\n",
    "\n",
    "# #使用ltp依次进行分词、词性标注、句法分析\n",
    "# # -*- coding: utf-8 -*-\n",
    "# from pyltp import Segmentor\n",
    "# from pyltp import Postagger\n",
    "# from pyltp import NamedEntityRecognizer\n",
    "# from pyltp import Parser\n",
    "\n",
    "# import os\n",
    "# LTP_DATA_DIR = '/home/zwl/pyltp-master/ltp_data'  # ltp模型目录的路径\n",
    "# cws_model_path = os.path.join(LTP_DATA_DIR, 'cws.model')  # 分词模型路径，模型名称为`cws.model`\n",
    "\n",
    "# #分词\n",
    "# segmentor = Segmentor()  # 初始化实例\n",
    "# segmentor.load_with_lexicon(cws_model_path, './data/test.txt')  # 加载模型\n",
    "\n",
    "\n"
   ]
  },
  {
   "cell_type": "code",
   "execution_count": null,
   "metadata": {
    "scrolled": true
   },
   "outputs": [],
   "source": [
    "\n",
    "def lexcial_coverage(content, words):\n",
    "    seg_words = seg.cut(content)\n",
    "#     print(list(seg_words))\n",
    "    no_pos_words = [item[0] for item in seg_words ]\n",
    "    words_list = words.split(';')\n",
    "    print(no_pos_words)\n",
    "    print(words_list)\n",
    "    print('******\\n')\n",
    "    cnt = 0\n",
    "    for word in words_list:\n",
    "        try:\n",
    "            tmp = no_pos_words.index(word)\n",
    "            cnt = cnt + 1\n",
    "        except:\n",
    "            pass\n",
    "    return cnt / len(words_list)\n",
    "res = 0\n",
    "i = 0\n",
    "for row in train_data.values:\n",
    "    print(i)\n",
    "    i = i + 1\n",
    "    content = row[1]\n",
    "    words = row[3]\n",
    "    percent = lexcial_coverage(content, words)\n",
    "    res = res + percent\n"
   ]
  },
  {
   "cell_type": "code",
   "execution_count": null,
   "metadata": {},
   "outputs": [],
   "source": [
    "res / i"
   ]
  }
 ],
 "metadata": {
  "kernelspec": {
   "display_name": "Python 3",
   "language": "python",
   "name": "python3"
  },
  "language_info": {
   "codemirror_mode": {
    "name": "ipython",
    "version": 3
   },
   "file_extension": ".py",
   "mimetype": "text/x-python",
   "name": "python",
   "nbconvert_exporter": "python",
   "pygments_lexer": "ipython3",
   "version": "3.6.3"
  }
 },
 "nbformat": 4,
 "nbformat_minor": 2
}
