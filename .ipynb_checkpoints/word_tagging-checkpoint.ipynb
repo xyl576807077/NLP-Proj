{
 "cells": [
  {
   "cell_type": "markdown",
   "metadata": {},
   "source": [
    "# 1. 对数据的content进行字标志，分别是theme和sentiment_word。\n",
    "- /B: 词的开头\n",
    "- /M: 词的中间\n",
    "- /E: 词的结尾\n",
    "- /S: 单独成词\n",
    "- /N: 不属于以上四类"
   ]
  },
  {
   "cell_type": "code",
   "execution_count": 1,
   "metadata": {
    "collapsed": true
   },
   "outputs": [],
   "source": [
    "import pandas as pd\n",
    "import numpy as np\n",
    "data = pd.read_csv(\"./data/train.csv\", sep='\\t')\n",
    "data"
   ]
  },
  {
   "cell_type": "code",
   "execution_count": 94,
   "metadata": {
    "collapsed": true
   },
   "outputs": [],
   "source": [
    "\n",
    "import re\n",
    "def tagging(content, words):\n",
    "    index_dict = {}\n",
    "    word_list = words.split(';')\n",
    "    for word in word_list:\n",
    "        if word != \"NULL\" and word != \"\":\n",
    "            location = [m.start() for m in re.finditer(word, content)]\n",
    "            for pos in location:\n",
    "                index_dict[pos] = len(word)\n",
    "        else:\n",
    "            pass\n",
    "    keys = list(index_dict.keys())\n",
    "    keys = sorted(keys)\n",
    "    pos = 0\n",
    "    end = len(content) - 1\n",
    "    i = 0\n",
    "    res = []\n",
    "    while(i <= end):\n",
    "        if pos >= len(keys) or i != keys[pos]:\n",
    "            res.append(content[i] + \"/N\")\n",
    "            i = i + 1\n",
    "        else:\n",
    "            length = index_dict[keys[pos]]\n",
    "            if length == 1:\n",
    "                res.append(content[i] + \"/S\")\n",
    "            else:\n",
    "                for j in range(length):\n",
    "                    if j == 0:\n",
    "                        res.append(content[i + j] + \"/B\")\n",
    "                    elif j == length - 1:\n",
    "                        res.append(content[i + j] + \"/E\")\n",
    "                    else:\n",
    "                        res.append(content[i + j] + \"/M\")\n",
    "            i = i + length\n",
    "            pos = pos + 1\n",
    "    s = res[0]\n",
    "    for i in range(1, len(res)):\n",
    "        s = s + ' ' + res[i]\n",
    "    s = s + '\\n'\n",
    "    return s\n",
    "\n",
    "for index, row in data.iterrows():\n",
    "    with open('./data/sentiment_word_tagging_train.csv', 'a') as f:\n",
    "        res = tagging(row[\"content\"], row[\"sentiment_word\"])\n",
    "        f.write(res)"
   ]
  }
 ],
 "metadata": {
  "kernelspec": {
   "display_name": "Python 3",
   "language": "python",
   "name": "python3"
  },
  "language_info": {
   "codemirror_mode": {
    "name": "ipython",
    "version": 3
   },
   "file_extension": ".py",
   "mimetype": "text/x-python",
   "name": "python",
   "nbconvert_exporter": "python",
   "pygments_lexer": "ipython3",
   "version": "3.5.4"
  }
 },
 "nbformat": 4,
 "nbformat_minor": 2
}
