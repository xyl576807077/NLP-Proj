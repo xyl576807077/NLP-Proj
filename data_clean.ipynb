{
 "cells": [
  {
   "cell_type": "markdown",
   "metadata": {},
   "source": [
    "# 1. 去除主题，情感词都为空的行"
   ]
  },
  {
   "cell_type": "code",
   "execution_count": 3,
   "metadata": {
    "collapsed": true
   },
   "outputs": [],
   "source": [
    "import pandas as pd\n",
    "import numpy as np\n",
    "data = pd.read_excel('./data/origin.xlsx')\n",
    "data = data.fillna(\"$$$\")\n",
    "duty_data = data[data.sentiment_word == \"$$$\"]\n",
    "clean_data = data.drop(data[data.sentiment_word == \"$$$\"].index)\n",
    "\n",
    "# 情感词为空的数据\n",
    "duty_data.to_csv(\"./data/duty_data.csv\", sep='\\t', index=None, encoding=\"utf8\")\n",
    "# 干净的数据\n",
    "clean_data.to_csv(\"./data/clean_data.csv\", sep='\\t', index=None, encoding=\"utf8\")"
   ]
  },
  {
   "cell_type": "markdown",
   "metadata": {},
   "source": [
    "# 2. 划分训练集和测试集"
   ]
  },
  {
   "cell_type": "code",
   "execution_count": 9,
   "metadata": {},
   "outputs": [],
   "source": [
    "import numpy as np\n",
    "import pandas as pd\n",
    "from sklearn.model_selection import train_test_split\n",
    "clean_data = pd.read_csv(\"./data/clean_data.csv\", sep='\\t')\n",
    "data = clean_data.sample(frac = 1)\n",
    "percent = int(data.shape[0] * 0.9)\n",
    "train_data = data.iloc[:percent]\n",
    "test_data = data.iloc[percent:]"
   ]
  },
  {
   "cell_type": "code",
   "execution_count": 12,
   "metadata": {},
   "outputs": [],
   "source": [
    "train_data.to_csv(\"./data/train.csv\", sep=\"\\t\", index=None)\n",
    "test_data.to_csv('./data/test.csv', sep=\"\\t\", index=None)"
   ]
  },
  {
   "cell_type": "markdown",
   "metadata": {},
   "source": [
    "# 3. 检测content分词后，是否能保留情感词"
   ]
  },
  {
   "cell_type": "code",
   "execution_count": 16,
   "metadata": {},
   "outputs": [
    {
     "name": "stdout",
     "output_type": "stream",
     "text": [
      "Model loaded succeed\n"
     ]
    }
   ],
   "source": [
    "import thulac\n",
    "seg = thulac.thulac()\n",
    "row = train_data.iloc[1]\n",
    "content = row[\"content\"]\n",
    "sentiment_words = row[\"sentiment_word\"]\n"
   ]
  },
  {
   "cell_type": "code",
   "execution_count": 18,
   "metadata": {},
   "outputs": [
    {
     "name": "stdout",
     "output_type": "stream",
     "text": [
      "粗糙;差;不是正品;\n",
      "[['我', 'r'], ['觉得', 'v'], ['不', 'd'], ['是', 'v'], ['正品', 'n'], ['，', 'w'], ['牙刷', 'n'], ['的', 'u'], ['后面', 'f'], ['有', 'v'], ['个', 'q'], ['点', 'n'], ['非常', 'd'], ['粗糙', 'a'], ['，', 'w'], ['刮', 'v'], ['嘴唇', 'n'], ['，', 'w'], ['和', 'p'], ['原', 'a'], ['厂', 'n'], ['的', 'u'], ['差', 'a'], ['太', 'd'], ['远', 'a'], ['，', 'w'], ['之前', 'f'], ['用', 'v'], ['的', 'u'], ['刷头', 'n'], ['上', 'f'], ['写', 'v'], ['的', 'u'], ['是', 'v'], ['diamond', 'x'], [' ', 'w'], ['clean', 'np'], ['，', 'w'], ['这个', 'r'], ['是', 'v'], ['soniccare', 'x'], ['，', 'w'], ['当然', 'd'], ['不', 'd'], ['排除', 'v'], ['改版', 'v'], ['质量', 'n'], ['下降', 'v'], ['的', 'u'], ['因素', 'n'], ['，', 'w'], ['但', 'c'], ['和', 'p'], ['以前', 'f'], ['买', 'v'], ['的', 'u'], ['差太', 'n'], ['多', 'a'], ['了', 'u']]\n"
     ]
    }
   ],
   "source": [
    "def seg_sentiment_words_percent(content, sentiment_words):\n",
    "    words = seg.cut(content)\n",
    "    print(sentiment_words)\n",
    "    print(words)\n",
    "seg_sentiment_words_percent(content, sentiment_words)"
   ]
  }
 ],
 "metadata": {
  "kernelspec": {
   "display_name": "Python [default]",
   "language": "python",
   "name": "python3"
  },
  "language_info": {
   "codemirror_mode": {
    "name": "ipython",
    "version": 3
   },
   "file_extension": ".py",
   "mimetype": "text/x-python",
   "name": "python",
   "nbconvert_exporter": "python",
   "pygments_lexer": "ipython3",
   "version": "3.5.4"
  }
 },
 "nbformat": 4,
 "nbformat_minor": 2
}
