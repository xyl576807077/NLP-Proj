{
 "cells": [
  {
   "cell_type": "markdown",
   "metadata": {},
   "source": [
    "# 1. 去除主题，情感词都为空的行"
   ]
  },
  {
   "cell_type": "code",
   "execution_count": null,
   "metadata": {
    "collapsed": true
   },
   "outputs": [],
   "source": [
    "import pandas as pd\n",
    "import numpy as np\n",
    "data = pd.read_excel('./data/origin.xlsx')\n",
    "data = data.fillna(\"$$$\")\n",
    "duty_data = data[data.sentiment_word == \"$$$\"]\n",
    "clean_data = data.drop(data[data.sentiment_word == \"$$$\"].index)\n",
    "\n",
    "# 情感词为空的数据\n",
    "duty_data.to_csv(\"./data/duty_data.csv\", sep='\\t', index=None, encoding=\"utf8\")\n",
    "# 干净的数据\n",
    "clean_data.to_csv(\"./data/clean_data.csv\", sep='\\t', index=None, encoding=\"utf8\")"
   ]
  },
  {
   "cell_type": "markdown",
   "metadata": {},
   "source": [
    "# 2. 划分训练集和测试集"
   ]
  },
  {
   "cell_type": "code",
   "execution_count": null,
   "metadata": {
    "collapsed": true
   },
   "outputs": [],
   "source": [
    "import numpy as np\n",
    "import pandas as pd\n",
    "from sklearn.model_selection import train_test_split\n",
    "clean_data = pd.read_csv(\"./data/clean_data.csv\", sep='\\t')\n",
    "data = clean_data.sample(frac = 1)\n",
    "percent = int(data.shape[0] * 0.9)\n",
    "train_data = data.iloc[:percent]\n",
    "test_data = data.iloc[percent:]"
   ]
  },
  {
   "cell_type": "code",
   "execution_count": null,
   "metadata": {
    "collapsed": true
   },
   "outputs": [],
   "source": [
    "train_data.to_csv(\"./data/train.csv\", sep=\"\\t\", index=None)\n",
    "test_data.to_csv('./data/test.csv', sep=\"\\t\", index=None)"
   ]
  },
  {
   "cell_type": "markdown",
   "metadata": {},
   "source": [
    "# 3. 检测content分词后，是否能保留情感词"
   ]
  },
  {
   "cell_type": "code",
   "execution_count": null,
   "metadata": {
    "collapsed": false
   },
   "outputs": [],
   "source": [
    "import thulac\n",
    "import numpy as np\n",
    "import pandas as pd\n",
    "train_data = pd.read_csv('./data/clean_data.csv', sep='\\t')\n",
    "seg = thulac.thulac(user_dict='./data/test.txt')\n",
    "# row = train_data.iloc[1]\n",
    "# content = row[\"content\"]\n",
    "# sentiment_words = row[\"sentiment_word\"]\n",
    "\n",
    "\n",
    "\n",
    "# content_data = train_data.loc[:,'content']\n",
    "\n",
    "# #使用ltp依次进行分词、词性标注、句法分析\n",
    "# # -*- coding: utf-8 -*-\n",
    "# from pyltp import Segmentor\n",
    "# from pyltp import Postagger\n",
    "# from pyltp import NamedEntityRecognizer\n",
    "# from pyltp import Parser\n",
    "\n",
    "# import os\n",
    "# LTP_DATA_DIR = '/home/zwl/pyltp-master/ltp_data'  # ltp模型目录的路径\n",
    "# cws_model_path = os.path.join(LTP_DATA_DIR, 'cws.model')  # 分词模型路径，模型名称为`cws.model`\n",
    "\n",
    "# #分词\n",
    "# segmentor = Segmentor()  # 初始化实例\n",
    "# segmentor.load_with_lexicon(cws_model_path, './data/test.txt')  # 加载模型\n",
    "\n",
    "\n"
   ]
  },
  {
   "cell_type": "code",
   "execution_count": null,
   "metadata": {
    "collapsed": false,
    "scrolled": true
   },
   "outputs": [],
   "source": [
    "seg_res = []\n",
    "word_res = []\n",
    "cnt_res = []\n",
    "def lexcial_coverage(content, words):\n",
    "    seg_words = seg.cut(content)\n",
    "#     print(list(seg_words))\n",
    "    no_pos_words = [item[0] for item in seg_words ]\n",
    "    seg_res.append(no_pos_words)\n",
    "    words_list = words.split(';')\n",
    "    word_res.append(words_list)\n",
    "#     print(no_pos_words)\n",
    "#     print(words_list)\n",
    "#     print('******\\n')\n",
    "    cnt = 0\n",
    "    for word in words_list:\n",
    "        try:\n",
    "            tmp = no_pos_words.index(word)\n",
    "            cnt = cnt + 1\n",
    "        except:\n",
    "            pass\n",
    "    cnt_res.append(cnt)\n",
    "    return cnt / len(words_list)\n",
    "res = 0\n",
    "i = 0\n",
    "for row in train_data.values:\n",
    "    print(i)\n",
    "    i = i + 1\n",
    "    content = row[1]\n",
    "    words = row[3]\n",
    "    percent = lexcial_coverage(content, words)\n",
    "    res = res + percent\n"
   ]
  },
  {
   "cell_type": "code",
   "execution_count": null,
   "metadata": {
    "collapsed": true
   },
   "outputs": [],
   "source": [
    "seg_series = pd.Series(seg_res)\n",
    "word_series = pd.Series(word_res)\n",
    "cnt_series = pd.Series(cnt_res)"
   ]
  },
  {
   "cell_type": "code",
   "execution_count": null,
   "metadata": {
    "collapsed": false
   },
   "outputs": [],
   "source": [
    "def delete(s):\n",
    "    res = ''\n",
    "    i = 0\n",
    "    for item in s:\n",
    "        if i == 0:\n",
    "            res = res + item\n",
    "        else:\n",
    "            res = res + ',' + item\n",
    "    return res"
   ]
  },
  {
   "cell_type": "code",
   "execution_count": null,
   "metadata": {
    "collapsed": true
   },
   "outputs": [],
   "source": []
  },
  {
   "cell_type": "code",
   "execution_count": null,
   "metadata": {
    "collapsed": true
   },
   "outputs": [],
   "source": [
    "haha = pd.DataFrame({\"seg\":seg_series, \"word\":word_series, \"cnt\":cnt_series})\n",
    "def delete(s):\n",
    "    res = ''\n",
    "    i = 0\n",
    "    for item in s:\n",
    "\n",
    "        if i == 0:\n",
    "            res = res + item\n",
    "        else:\n",
    "            res = res + '\\t' + item\n",
    "        i = i + 1\n",
    "    return res\n",
    "haha[\"seg\"] = haha[\"seg\"].apply(delete)\n",
    "haha[\"word\"] = haha[\"word\"].apply(delete)"
   ]
  },
  {
   "cell_type": "markdown",
   "metadata": {},
   "source": [
    "# 4. 重新对content分词, 生成序列标注的数据格式"
   ]
  },
  {
   "cell_type": "code",
   "execution_count": null,
   "metadata": {
    "collapsed": false
   },
   "outputs": [],
   "source": [
    "import numpy as np\n",
    "import pandas as pd\n",
    "data = pd.read_csv('./data/validation.csv', delimiter=',')\n",
    "content = pd.DataFrame(data[\"content\"])\n",
    "content.to_csv('./data/validation_content.csv', header=None, index=None)\n",
    "import thulac\n",
    "model = thulac.thulac(seg_only=True, user_dict='./data/dict.txt')\n",
    "model.cut_f(input_file='./data/validation_content.csv', output_file='./data/validation_seg_content.csv')"
   ]
  },
  {
   "cell_type": "code",
   "execution_count": null,
   "metadata": {
    "collapsed": true
   },
   "outputs": [],
   "source": [
    "seg_content = pd.read_csv('./data/validation_seg_content.csv', delimiter='\\t', header=None)\n",
    "\n",
    "sentiment_set = pd.read_csv('./data/sentiment_set.csv', header=None)\n",
    "theme_set = pd.read_csv('./data/theme_set.csv', header=None)\n",
    "\n",
    "\n",
    "sentiment = set()\n",
    "for item in sentiment_set.values:\n",
    "    sentiment.add(item[0])\n",
    "theme = set()\n",
    "for item in theme_set.values:\n",
    "    theme.add(item[0])\n",
    "\n",
    "def list_to_str(l):\n",
    "    res = \"\"\n",
    "    for i in range(len(l)):\n",
    "        if i == 0:\n",
    "            res = res + l[i]\n",
    "        else:\n",
    "            res = res + \" \" + l[i]\n",
    "    return res\n",
    "haha = []\n",
    "with open('./data/validation_seg_content.csv', 'r') as f:\n",
    "    for (num,value) in enumerate(f):\n",
    "        words = value.split(' ')\n",
    "        res = []\n",
    "        pos = 0\n",
    "        for word in words:\n",
    "            if word in sentiment:\n",
    "                res.append('S')\n",
    "            elif word in theme:\n",
    "                res.append('T')\n",
    "            else:\n",
    "                res.append('O')\n",
    "        target = [list_to_str(res)]\n",
    "        haha.append(target)\n",
    "\n",
    "\n",
    "\n",
    "haha = pd.DataFrame(haha)\n",
    "\n",
    "haha\n",
    "\n",
    "haha.to_csv('./data/validation_target.csv', header=None, index=None)"
   ]
  },
  {
   "cell_type": "code",
   "execution_count": null,
   "metadata": {
    "collapsed": true
   },
   "outputs": [],
   "source": [
    "res = ['S', 'T', 'O']"
   ]
  },
  {
   "cell_type": "code",
   "execution_count": null,
   "metadata": {
    "collapsed": true
   },
   "outputs": [],
   "source": [
    "with open('./data/target.csv', 'w') as target:\n",
    "    target.write(str(res))\n"
   ]
  }
 ],
 "metadata": {
  "kernelspec": {
   "display_name": "Python 2",
   "language": "python",
   "name": "python2"
  },
  "language_info": {
   "codemirror_mode": {
    "name": "ipython",
    "version": 2
   },
   "file_extension": ".py",
   "mimetype": "text/x-python",
   "name": "python",
   "nbconvert_exporter": "python",
   "pygments_lexer": "ipython2",
   "version": "2.7.13"
  }
 },
 "nbformat": 4,
 "nbformat_minor": 2
}
