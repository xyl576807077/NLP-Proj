{
 "cells": [
  {
   "cell_type": "markdown",
   "metadata": {},
   "source": [
    "# 1.生成主题词的词典"
   ]
  },
  {
   "cell_type": "code",
   "execution_count": null,
   "metadata": {},
   "outputs": [],
   "source": [
    "import numpy as np\n",
    "import pandas as pd\n",
    "\n",
    "train_data = pd.read_csv(\"./train.csv\", sep='\\t')\n",
    "train_data"
   ]
  },
  {
   "cell_type": "code",
   "execution_count": null,
   "metadata": {
    "scrolled": true
   },
   "outputs": [],
   "source": [
    "import csv\n",
    "\n",
    "theme_data = train_data.loc[:,'theme']\n",
    "\n",
    "theme_set = set() #主题词集合\n",
    "for theme in theme_data:\n",
    "    tmp = theme.strip(';').split(';')\n",
    "    for t in tmp:\n",
    "        if t!='NULL':\n",
    "            theme_set.add(t)\n",
    "print(len(theme_set))\n",
    "print(theme_set)\n",
    "# out = open('theme_set.csv', 'a', newline='')\n",
    "# csv_write = csv.writer(out, dialect='excel')\n",
    "# for theme in theme_set:\n",
    "#     themeList = []\n",
    "#     themeList.append(theme)\n",
    "#     print(themeList)\n",
    "#     csv_write.writerow(themeList)\n",
    "\n",
    "hehe = list(theme_set)\n",
    "hehe = np.array(hehe)\n",
    "hehe = pd.DataFrame(hehe)\n",
    "hehe.to_csv('theme_set.csv', index=None, header=None)"
   ]
  },
  {
   "cell_type": "markdown",
   "metadata": {},
   "source": [
    "# 2.生成情感词的词典"
   ]
  },
  {
   "cell_type": "code",
   "execution_count": null,
   "metadata": {
    "collapsed": true
   },
   "outputs": [],
   "source": [
    "sentiment_data = train_data.loc[:,'sentiment_word']\n",
    "\n",
    "sentiment_set = set() #主题词集合\n",
    "for sentiment in sentiment_data:\n",
    "    tmp = sentiment.strip(';').split(';')\n",
    "    for t in tmp:\n",
    "        if t!='NULL':\n",
    "            sentiment_set.add(t)\n",
    "\n",
    "hehe = list(sentiment_set)\n",
    "hehe = np.array(hehe)\n",
    "hehe = pd.DataFrame(hehe)\n",
    "hehe.to_csv('hehe.csv', index=None, header=None)"
   ]
  },
  {
   "cell_type": "markdown",
   "metadata": {},
   "source": [
    "# 3.读取content，进行句法分析"
   ]
  },
  {
   "cell_type": "code",
   "execution_count": null,
   "metadata": {},
   "outputs": [],
   "source": [
    "content_data = train_data.loc[:,'content']\n",
    "\n",
    "#使用ltp依次进行分词、词性标注、句法分析\n",
    "# -*- coding: utf-8 -*-\n",
    "from pyltp import Segmentor\n",
    "from pyltp import Postagger\n",
    "from pyltp import NamedEntityRecognizer\n",
    "from pyltp import Parser\n",
    "\n",
    "import os\n",
    "LTP_DATA_DIR = '/home/zwl/pyltp-master/ltp_data'  # ltp模型目录的路径\n",
    "cws_model_path = os.path.join(LTP_DATA_DIR, 'cws.model')  # 分词模型路径，模型名称为`cws.model`\n",
    "\n",
    "#分词\n",
    "segmentor = Segmentor()  # 初始化实例\n",
    "segmentor.load_with_lexicon(cws_model_path, './test.txt')  # 加载模型\n",
    "\n",
    "seg = [] #存储分词结果\n",
    "parse = [] #存储句法分析结果\n",
    "\n",
    "for content in content_data:\n",
    "    words = segmentor.segment(content)  # 分词\n",
    "    seg.append('\\t'.join(words))\n",
    "\n",
    "print(seg)\n",
    "\n"
   ]
  },
  {
   "cell_type": "code",
   "execution_count": null,
   "metadata": {
    "scrolled": true
   },
   "outputs": [],
   "source": [
    "#存储分词结果\n",
    "hehe = np.array(seg)\n",
    "print(hehe)\n",
    "hehe = pd.DataFrame(hehe)\n",
    "print(hehe)\n",
    "hehe.to_csv('segmentor_result.csv', index=None, header=None)"
   ]
  },
  {
   "cell_type": "code",
   "execution_count": null,
   "metadata": {},
   "outputs": [],
   "source": [
    "from pyltp import Segmentor\n",
    "from pyltp import Postagger\n",
    "from pyltp import NamedEntityRecognizer\n",
    "from pyltp import Parser\n",
    "\n",
    "tag = [] #存储词性标注结果\n",
    "\n",
    "# 词性标注\n",
    "postagger = Postagger() # 初始化实例\n",
    "postagger.load('/home/zwl/pyltp-master/ltp_data/pos.model')  # 加载模型\n",
    "\n",
    "for content in content_data:\n",
    "    words = segmentor.segment(content)  # 分词\n",
    "    postags = postagger.postag(words)  # 词性标注\n",
    "    tag.append('\\t'.join(postags))\n",
    "    print('\\t'.join(postags))\n",
    "\n",
    "#存储词性标注结果\n",
    "hehe = np.array(tag)\n",
    "hehe = pd.DataFrame(hehe)\n",
    "hehe.to_csv('tagger_result.csv', index=None, header=None)"
   ]
  },
  {
   "cell_type": "code",
   "execution_count": null,
   "metadata": {},
   "outputs": [],
   "source": [
    "parse = [] #存储句法分析结果\n",
    "\n",
    "parser = Parser() # 初始化实例\n",
    "parser.load('/home/zwl/pyltp-master/ltp_data/parser.model')  # 加载模型\n",
    "\n",
    "for content in content_data:\n",
    "    words = segmentor.segment(content)  # 分词\n",
    "    postags = postagger.postag(words)  # 词性标注\n",
    "\n",
    "    arcs = parser.parse(words, postags)  # 句法分析\n",
    "    parse.append(\"\\t\".join(\"%d:%s\" % (arc.head, arc.relation) for arc in arcs))\n",
    "    print (\"\\t\".join(\"%d:%s\" % (arc.head, arc.relation) for arc in arcs))\n",
    "    \n",
    "segmentor.release()\n",
    "postagger.release() \n",
    "parser.release()# 释放模型\n",
    "\n",
    "#存储句法分析的结果\n",
    "hehe = np.array(parse)\n",
    "hehe = pd.DataFrame(hehe)\n",
    "hehe.to_csv('parse_result.csv', index=None, header=None)"
   ]
  }
 ],
 "metadata": {
  "kernelspec": {
   "display_name": "Python 3",
   "language": "python",
   "name": "python3"
  },
  "language_info": {
   "codemirror_mode": {
    "name": "ipython",
    "version": 3
   },
   "file_extension": ".py",
   "mimetype": "text/x-python",
   "name": "python",
   "nbconvert_exporter": "python",
   "pygments_lexer": "ipython3",
   "version": "3.6.3"
  }
 },
 "nbformat": 4,
 "nbformat_minor": 2
}
